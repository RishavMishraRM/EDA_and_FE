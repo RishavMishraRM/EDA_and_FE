{
 "cells": [
  {
   "cell_type": "markdown",
   "id": "ccd81fd4",
   "metadata": {},
   "source": [
    "Outlier\n",
    "\n",
    "Trimming\n",
    "-- Normal ==> mean +&- 3 STD deviation\n",
    "-- Non Normal\n",
    "\n",
    "\n",
    "Capping \n",
    "\n",
    "-- \n",
    "\n",
    "\n",
    "We have to remove upper fence and lower fence\n",
    "q1 = q3-1.5xIQR\n",
    "q3 = q3+1.5xIQR\n",
    "\n",
    "\n",
    "Outliers ==> Replace them with missing values ==> then use mean"
   ]
  },
  {
   "cell_type": "code",
   "execution_count": 1,
   "id": "7366060d",
   "metadata": {
    "ExecuteTime": {
     "end_time": "2023-10-08T18:32:48.187816Z",
     "start_time": "2023-10-08T18:32:46.351368Z"
    }
   },
   "outputs": [],
   "source": [
    "import pandas as pd\n",
    "df = pd.read_csv(\"https://raw.githubusercontent.com/campusx-official/100-days-of-machine-learning/main/day42-outlier-removal-using-zscore/placement.csv\")"
   ]
  },
  {
   "cell_type": "code",
   "execution_count": 2,
   "id": "008aa70c",
   "metadata": {
    "ExecuteTime": {
     "end_time": "2023-10-08T18:32:48.313120Z",
     "start_time": "2023-10-08T18:32:48.254044Z"
    }
   },
   "outputs": [
    {
     "data": {
      "text/html": [
       "<div>\n",
       "<style scoped>\n",
       "    .dataframe tbody tr th:only-of-type {\n",
       "        vertical-align: middle;\n",
       "    }\n",
       "\n",
       "    .dataframe tbody tr th {\n",
       "        vertical-align: top;\n",
       "    }\n",
       "\n",
       "    .dataframe thead th {\n",
       "        text-align: right;\n",
       "    }\n",
       "</style>\n",
       "<table border=\"1\" class=\"dataframe\">\n",
       "  <thead>\n",
       "    <tr style=\"text-align: right;\">\n",
       "      <th></th>\n",
       "      <th>cgpa</th>\n",
       "      <th>placement_exam_marks</th>\n",
       "      <th>placed</th>\n",
       "    </tr>\n",
       "  </thead>\n",
       "  <tbody>\n",
       "    <tr>\n",
       "      <th>0</th>\n",
       "      <td>7.19</td>\n",
       "      <td>26.0</td>\n",
       "      <td>1</td>\n",
       "    </tr>\n",
       "    <tr>\n",
       "      <th>1</th>\n",
       "      <td>7.46</td>\n",
       "      <td>38.0</td>\n",
       "      <td>1</td>\n",
       "    </tr>\n",
       "    <tr>\n",
       "      <th>2</th>\n",
       "      <td>7.54</td>\n",
       "      <td>40.0</td>\n",
       "      <td>1</td>\n",
       "    </tr>\n",
       "    <tr>\n",
       "      <th>3</th>\n",
       "      <td>6.42</td>\n",
       "      <td>8.0</td>\n",
       "      <td>1</td>\n",
       "    </tr>\n",
       "    <tr>\n",
       "      <th>4</th>\n",
       "      <td>7.23</td>\n",
       "      <td>17.0</td>\n",
       "      <td>0</td>\n",
       "    </tr>\n",
       "  </tbody>\n",
       "</table>\n",
       "</div>"
      ],
      "text/plain": [
       "   cgpa  placement_exam_marks  placed\n",
       "0  7.19                  26.0       1\n",
       "1  7.46                  38.0       1\n",
       "2  7.54                  40.0       1\n",
       "3  6.42                   8.0       1\n",
       "4  7.23                  17.0       0"
      ]
     },
     "execution_count": 2,
     "metadata": {},
     "output_type": "execute_result"
    }
   ],
   "source": [
    "df.head()"
   ]
  },
  {
   "cell_type": "code",
   "execution_count": 3,
   "id": "827695f4",
   "metadata": {
    "ExecuteTime": {
     "end_time": "2023-10-08T18:32:49.571135Z",
     "start_time": "2023-10-08T18:32:49.557122Z"
    }
   },
   "outputs": [
    {
     "data": {
      "text/html": [
       "<div>\n",
       "<style scoped>\n",
       "    .dataframe tbody tr th:only-of-type {\n",
       "        vertical-align: middle;\n",
       "    }\n",
       "\n",
       "    .dataframe tbody tr th {\n",
       "        vertical-align: top;\n",
       "    }\n",
       "\n",
       "    .dataframe thead th {\n",
       "        text-align: right;\n",
       "    }\n",
       "</style>\n",
       "<table border=\"1\" class=\"dataframe\">\n",
       "  <thead>\n",
       "    <tr style=\"text-align: right;\">\n",
       "      <th></th>\n",
       "      <th>cgpa</th>\n",
       "      <th>placement_exam_marks</th>\n",
       "      <th>placed</th>\n",
       "    </tr>\n",
       "  </thead>\n",
       "  <tbody>\n",
       "    <tr>\n",
       "      <th>974</th>\n",
       "      <td>6.42</td>\n",
       "      <td>38.0</td>\n",
       "      <td>0</td>\n",
       "    </tr>\n",
       "    <tr>\n",
       "      <th>270</th>\n",
       "      <td>6.80</td>\n",
       "      <td>16.0</td>\n",
       "      <td>1</td>\n",
       "    </tr>\n",
       "    <tr>\n",
       "      <th>499</th>\n",
       "      <td>6.42</td>\n",
       "      <td>31.0</td>\n",
       "      <td>0</td>\n",
       "    </tr>\n",
       "    <tr>\n",
       "      <th>604</th>\n",
       "      <td>6.89</td>\n",
       "      <td>40.0</td>\n",
       "      <td>1</td>\n",
       "    </tr>\n",
       "    <tr>\n",
       "      <th>416</th>\n",
       "      <td>7.51</td>\n",
       "      <td>55.0</td>\n",
       "      <td>1</td>\n",
       "    </tr>\n",
       "  </tbody>\n",
       "</table>\n",
       "</div>"
      ],
      "text/plain": [
       "     cgpa  placement_exam_marks  placed\n",
       "974  6.42                  38.0       0\n",
       "270  6.80                  16.0       1\n",
       "499  6.42                  31.0       0\n",
       "604  6.89                  40.0       1\n",
       "416  7.51                  55.0       1"
      ]
     },
     "execution_count": 3,
     "metadata": {},
     "output_type": "execute_result"
    }
   ],
   "source": [
    "df.sample(5)"
   ]
  },
  {
   "cell_type": "code",
   "execution_count": 4,
   "id": "19f5bab2",
   "metadata": {
    "ExecuteTime": {
     "end_time": "2023-10-08T18:32:50.382913Z",
     "start_time": "2023-10-08T18:32:50.360785Z"
    }
   },
   "outputs": [
    {
     "data": {
      "text/html": [
       "<div>\n",
       "<style scoped>\n",
       "    .dataframe tbody tr th:only-of-type {\n",
       "        vertical-align: middle;\n",
       "    }\n",
       "\n",
       "    .dataframe tbody tr th {\n",
       "        vertical-align: top;\n",
       "    }\n",
       "\n",
       "    .dataframe thead th {\n",
       "        text-align: right;\n",
       "    }\n",
       "</style>\n",
       "<table border=\"1\" class=\"dataframe\">\n",
       "  <thead>\n",
       "    <tr style=\"text-align: right;\">\n",
       "      <th></th>\n",
       "      <th>cgpa</th>\n",
       "      <th>placement_exam_marks</th>\n",
       "      <th>placed</th>\n",
       "    </tr>\n",
       "  </thead>\n",
       "  <tbody>\n",
       "    <tr>\n",
       "      <th>count</th>\n",
       "      <td>1000.000000</td>\n",
       "      <td>1000.000000</td>\n",
       "      <td>1000.000000</td>\n",
       "    </tr>\n",
       "    <tr>\n",
       "      <th>mean</th>\n",
       "      <td>6.961240</td>\n",
       "      <td>32.225000</td>\n",
       "      <td>0.489000</td>\n",
       "    </tr>\n",
       "    <tr>\n",
       "      <th>std</th>\n",
       "      <td>0.615898</td>\n",
       "      <td>19.130822</td>\n",
       "      <td>0.500129</td>\n",
       "    </tr>\n",
       "    <tr>\n",
       "      <th>min</th>\n",
       "      <td>4.890000</td>\n",
       "      <td>0.000000</td>\n",
       "      <td>0.000000</td>\n",
       "    </tr>\n",
       "    <tr>\n",
       "      <th>25%</th>\n",
       "      <td>6.550000</td>\n",
       "      <td>17.000000</td>\n",
       "      <td>0.000000</td>\n",
       "    </tr>\n",
       "    <tr>\n",
       "      <th>50%</th>\n",
       "      <td>6.960000</td>\n",
       "      <td>28.000000</td>\n",
       "      <td>0.000000</td>\n",
       "    </tr>\n",
       "    <tr>\n",
       "      <th>75%</th>\n",
       "      <td>7.370000</td>\n",
       "      <td>44.000000</td>\n",
       "      <td>1.000000</td>\n",
       "    </tr>\n",
       "    <tr>\n",
       "      <th>max</th>\n",
       "      <td>9.120000</td>\n",
       "      <td>100.000000</td>\n",
       "      <td>1.000000</td>\n",
       "    </tr>\n",
       "  </tbody>\n",
       "</table>\n",
       "</div>"
      ],
      "text/plain": [
       "              cgpa  placement_exam_marks       placed\n",
       "count  1000.000000           1000.000000  1000.000000\n",
       "mean      6.961240             32.225000     0.489000\n",
       "std       0.615898             19.130822     0.500129\n",
       "min       4.890000              0.000000     0.000000\n",
       "25%       6.550000             17.000000     0.000000\n",
       "50%       6.960000             28.000000     0.000000\n",
       "75%       7.370000             44.000000     1.000000\n",
       "max       9.120000            100.000000     1.000000"
      ]
     },
     "execution_count": 4,
     "metadata": {},
     "output_type": "execute_result"
    }
   ],
   "source": [
    "df.describe()"
   ]
  },
  {
   "cell_type": "code",
   "execution_count": 5,
   "id": "21032b67",
   "metadata": {
    "ExecuteTime": {
     "end_time": "2023-10-08T18:32:51.102189Z",
     "start_time": "2023-10-08T18:32:51.079649Z"
    }
   },
   "outputs": [
    {
     "data": {
      "text/html": [
       "<div>\n",
       "<style scoped>\n",
       "    .dataframe tbody tr th:only-of-type {\n",
       "        vertical-align: middle;\n",
       "    }\n",
       "\n",
       "    .dataframe tbody tr th {\n",
       "        vertical-align: top;\n",
       "    }\n",
       "\n",
       "    .dataframe thead th {\n",
       "        text-align: right;\n",
       "    }\n",
       "</style>\n",
       "<table border=\"1\" class=\"dataframe\">\n",
       "  <thead>\n",
       "    <tr style=\"text-align: right;\">\n",
       "      <th></th>\n",
       "      <th>count</th>\n",
       "      <th>mean</th>\n",
       "      <th>std</th>\n",
       "      <th>min</th>\n",
       "      <th>25%</th>\n",
       "      <th>50%</th>\n",
       "      <th>75%</th>\n",
       "      <th>max</th>\n",
       "    </tr>\n",
       "  </thead>\n",
       "  <tbody>\n",
       "    <tr>\n",
       "      <th>cgpa</th>\n",
       "      <td>1000.0</td>\n",
       "      <td>6.96124</td>\n",
       "      <td>0.615898</td>\n",
       "      <td>4.89</td>\n",
       "      <td>6.55</td>\n",
       "      <td>6.96</td>\n",
       "      <td>7.37</td>\n",
       "      <td>9.12</td>\n",
       "    </tr>\n",
       "    <tr>\n",
       "      <th>placement_exam_marks</th>\n",
       "      <td>1000.0</td>\n",
       "      <td>32.22500</td>\n",
       "      <td>19.130822</td>\n",
       "      <td>0.00</td>\n",
       "      <td>17.00</td>\n",
       "      <td>28.00</td>\n",
       "      <td>44.00</td>\n",
       "      <td>100.00</td>\n",
       "    </tr>\n",
       "    <tr>\n",
       "      <th>placed</th>\n",
       "      <td>1000.0</td>\n",
       "      <td>0.48900</td>\n",
       "      <td>0.500129</td>\n",
       "      <td>0.00</td>\n",
       "      <td>0.00</td>\n",
       "      <td>0.00</td>\n",
       "      <td>1.00</td>\n",
       "      <td>1.00</td>\n",
       "    </tr>\n",
       "  </tbody>\n",
       "</table>\n",
       "</div>"
      ],
      "text/plain": [
       "                       count      mean        std   min    25%    50%    75%  \\\n",
       "cgpa                  1000.0   6.96124   0.615898  4.89   6.55   6.96   7.37   \n",
       "placement_exam_marks  1000.0  32.22500  19.130822  0.00  17.00  28.00  44.00   \n",
       "placed                1000.0   0.48900   0.500129  0.00   0.00   0.00   1.00   \n",
       "\n",
       "                         max  \n",
       "cgpa                    9.12  \n",
       "placement_exam_marks  100.00  \n",
       "placed                  1.00  "
      ]
     },
     "execution_count": 5,
     "metadata": {},
     "output_type": "execute_result"
    }
   ],
   "source": [
    "df.describe().T"
   ]
  },
  {
   "cell_type": "code",
   "execution_count": 7,
   "id": "a6f6a820",
   "metadata": {
    "ExecuteTime": {
     "end_time": "2023-10-08T18:33:49.051638Z",
     "start_time": "2023-10-08T18:33:48.626951Z"
    }
   },
   "outputs": [
    {
     "name": "stderr",
     "output_type": "stream",
     "text": [
      "C:\\Users\\Rishav\\anaconda3\\Lib\\site-packages\\seaborn\\distributions.py:2619: FutureWarning: `distplot` is a deprecated function and will be removed in a future version. Please adapt your code to use either `displot` (a figure-level function with similar flexibility) or `histplot` (an axes-level function for histograms).\n",
      "  warnings.warn(msg, FutureWarning)\n",
      "C:\\Users\\Rishav\\anaconda3\\Lib\\site-packages\\seaborn\\distributions.py:2619: FutureWarning: `distplot` is a deprecated function and will be removed in a future version. Please adapt your code to use either `displot` (a figure-level function with similar flexibility) or `histplot` (an axes-level function for histograms).\n",
      "  warnings.warn(msg, FutureWarning)\n"
     ]
    },
    {
     "data": {
      "image/png": "[encoded data removed]",
      "text/plain": [
       "<Figure size 1600x500 with 2 Axes>"
      ]
     },
     "metadata": {},
     "output_type": "display_data"
    }
   ],
   "source": [
    "import matplotlib.pyplot as plt\n",
    "import seaborn as sns\n",
    "\n",
    "plt.figure(figsize=(16,5))\n",
    "plt.subplot(1, 2, 1)\n",
    "sns.distplot(df['cgpa'])\n",
    "\n",
    "plt.subplot(1, 2, 2)\n",
    "sns.distplot(df['placement_exam_marks'])\n",
    "\n",
    "plt.show()"
   ]
  },
  {
   "cell_type": "code",
   "execution_count": 8,
   "id": "dadd50d3",
   "metadata": {
    "ExecuteTime": {
     "end_time": "2023-10-08T18:33:55.806306Z",
     "start_time": "2023-10-08T18:33:55.796537Z"
    }
   },
   "outputs": [
    {
     "data": {
      "text/plain": [
       "0.8356419499466834"
      ]
     },
     "execution_count": 8,
     "metadata": {},
     "output_type": "execute_result"
    }
   ],
   "source": [
    "df[\"placement_exam_marks\"].skew()"
   ]
  },
  {
   "cell_type": "code",
   "execution_count": 9,
   "id": "66f81929",
   "metadata": {
    "ExecuteTime": {
     "end_time": "2023-10-08T18:33:58.729601Z",
     "start_time": "2023-10-08T18:33:58.718470Z"
    }
   },
   "outputs": [
    {
     "data": {
      "text/plain": [
       "32.225"
      ]
     },
     "execution_count": 9,
     "metadata": {},
     "output_type": "execute_result"
    }
   ],
   "source": [
    "df[\"placement_exam_marks\"].mean()"
   ]
  },
  {
   "cell_type": "code",
   "execution_count": 10,
   "id": "4f9fb250",
   "metadata": {
    "ExecuteTime": {
     "end_time": "2023-10-08T18:34:00.671280Z",
     "start_time": "2023-10-08T18:34:00.660214Z"
    }
   },
   "outputs": [
    {
     "data": {
      "text/plain": [
       "6.96124"
      ]
     },
     "execution_count": 10,
     "metadata": {},
     "output_type": "execute_result"
    }
   ],
   "source": [
    "df[\"cgpa\"].mean()"
   ]
  },
  {
   "cell_type": "code",
   "execution_count": 11,
   "id": "69656474",
   "metadata": {
    "ExecuteTime": {
     "end_time": "2023-10-08T18:34:01.423009Z",
     "start_time": "2023-10-08T18:34:01.414598Z"
    }
   },
   "outputs": [
    {
     "data": {
      "text/plain": [
       "0.6158978751323894"
      ]
     },
     "execution_count": 11,
     "metadata": {},
     "output_type": "execute_result"
    }
   ],
   "source": [
    "df[\"cgpa\"].std()"
   ]
  },
  {
   "cell_type": "code",
   "execution_count": 12,
   "id": "871102e0",
   "metadata": {
    "ExecuteTime": {
     "end_time": "2023-10-08T18:34:04.518738Z",
     "start_time": "2023-10-08T18:34:04.509183Z"
    }
   },
   "outputs": [
    {
     "data": {
      "text/plain": [
       "4.89"
      ]
     },
     "execution_count": 12,
     "metadata": {},
     "output_type": "execute_result"
    }
   ],
   "source": [
    "df[\"cgpa\"].min()"
   ]
  },
  {
   "cell_type": "code",
   "execution_count": 13,
   "id": "ee33d3ba",
   "metadata": {
    "ExecuteTime": {
     "end_time": "2023-10-08T18:34:05.301818Z",
     "start_time": "2023-10-08T18:34:05.292190Z"
    }
   },
   "outputs": [
    {
     "data": {
      "text/plain": [
       "9.12"
      ]
     },
     "execution_count": 13,
     "metadata": {},
     "output_type": "execute_result"
    }
   ],
   "source": [
    "df[\"cgpa\"].max()"
   ]
  },
  {
   "cell_type": "code",
   "execution_count": 14,
   "id": "c35fead8",
   "metadata": {
    "ExecuteTime": {
     "end_time": "2023-10-08T18:34:13.037042Z",
     "start_time": "2023-10-08T18:34:13.025444Z"
    }
   },
   "outputs": [
    {
     "data": {
      "text/plain": [
       "8.808933625397168"
      ]
     },
     "execution_count": 14,
     "metadata": {},
     "output_type": "execute_result"
    }
   ],
   "source": [
    "df['cgpa'].mean() + 3*df['cgpa'].std()"
   ]
  },
  {
   "cell_type": "code",
   "execution_count": 15,
   "id": "9103a74f",
   "metadata": {
    "ExecuteTime": {
     "end_time": "2023-10-08T18:34:13.860747Z",
     "start_time": "2023-10-08T18:34:13.850797Z"
    }
   },
   "outputs": [
    {
     "data": {
      "text/plain": [
       "5.113546374602832"
      ]
     },
     "execution_count": 15,
     "metadata": {},
     "output_type": "execute_result"
    }
   ],
   "source": [
    "df['cgpa'].mean() - 3*df['cgpa'].std()"
   ]
  },
  {
   "cell_type": "code",
   "execution_count": 16,
   "id": "85091b5c",
   "metadata": {
    "ExecuteTime": {
     "end_time": "2023-10-08T18:34:18.730663Z",
     "start_time": "2023-10-08T18:34:18.713395Z"
    }
   },
   "outputs": [
    {
     "data": {
      "text/html": [
       "<div>\n",
       "<style scoped>\n",
       "    .dataframe tbody tr th:only-of-type {\n",
       "        vertical-align: middle;\n",
       "    }\n",
       "\n",
       "    .dataframe tbody tr th {\n",
       "        vertical-align: top;\n",
       "    }\n",
       "\n",
       "    .dataframe thead th {\n",
       "        text-align: right;\n",
       "    }\n",
       "</style>\n",
       "<table border=\"1\" class=\"dataframe\">\n",
       "  <thead>\n",
       "    <tr style=\"text-align: right;\">\n",
       "      <th></th>\n",
       "      <th>cgpa</th>\n",
       "      <th>placement_exam_marks</th>\n",
       "      <th>placed</th>\n",
       "    </tr>\n",
       "  </thead>\n",
       "  <tbody>\n",
       "    <tr>\n",
       "      <th>995</th>\n",
       "      <td>8.87</td>\n",
       "      <td>44.0</td>\n",
       "      <td>1</td>\n",
       "    </tr>\n",
       "    <tr>\n",
       "      <th>996</th>\n",
       "      <td>9.12</td>\n",
       "      <td>65.0</td>\n",
       "      <td>1</td>\n",
       "    </tr>\n",
       "  </tbody>\n",
       "</table>\n",
       "</div>"
      ],
      "text/plain": [
       "     cgpa  placement_exam_marks  placed\n",
       "995  8.87                  44.0       1\n",
       "996  9.12                  65.0       1"
      ]
     },
     "execution_count": 16,
     "metadata": {},
     "output_type": "execute_result"
    }
   ],
   "source": [
    "df[df[\"cgpa\"]>8.80]"
   ]
  },
  {
   "cell_type": "code",
   "execution_count": 17,
   "id": "5430de41",
   "metadata": {
    "ExecuteTime": {
     "end_time": "2023-10-08T18:34:19.331191Z",
     "start_time": "2023-10-08T18:34:19.308940Z"
    }
   },
   "outputs": [
    {
     "data": {
      "text/html": [
       "<div>\n",
       "<style scoped>\n",
       "    .dataframe tbody tr th:only-of-type {\n",
       "        vertical-align: middle;\n",
       "    }\n",
       "\n",
       "    .dataframe tbody tr th {\n",
       "        vertical-align: top;\n",
       "    }\n",
       "\n",
       "    .dataframe thead th {\n",
       "        text-align: right;\n",
       "    }\n",
       "</style>\n",
       "<table border=\"1\" class=\"dataframe\">\n",
       "  <thead>\n",
       "    <tr style=\"text-align: right;\">\n",
       "      <th></th>\n",
       "      <th>cgpa</th>\n",
       "      <th>placement_exam_marks</th>\n",
       "      <th>placed</th>\n",
       "    </tr>\n",
       "  </thead>\n",
       "  <tbody>\n",
       "    <tr>\n",
       "      <th>485</th>\n",
       "      <td>4.92</td>\n",
       "      <td>44.0</td>\n",
       "      <td>1</td>\n",
       "    </tr>\n",
       "    <tr>\n",
       "      <th>997</th>\n",
       "      <td>4.89</td>\n",
       "      <td>34.0</td>\n",
       "      <td>0</td>\n",
       "    </tr>\n",
       "    <tr>\n",
       "      <th>999</th>\n",
       "      <td>4.90</td>\n",
       "      <td>10.0</td>\n",
       "      <td>1</td>\n",
       "    </tr>\n",
       "  </tbody>\n",
       "</table>\n",
       "</div>"
      ],
      "text/plain": [
       "     cgpa  placement_exam_marks  placed\n",
       "485  4.92                  44.0       1\n",
       "997  4.89                  34.0       0\n",
       "999  4.90                  10.0       1"
      ]
     },
     "execution_count": 17,
     "metadata": {},
     "output_type": "execute_result"
    }
   ],
   "source": [
    "df[df[\"cgpa\"]<5.11]"
   ]
  },
  {
   "cell_type": "code",
   "execution_count": 18,
   "id": "a289e80a",
   "metadata": {
    "ExecuteTime": {
     "end_time": "2023-10-08T18:34:25.193589Z",
     "start_time": "2023-10-08T18:34:25.176500Z"
    }
   },
   "outputs": [
    {
     "data": {
      "text/html": [
       "<div>\n",
       "<style scoped>\n",
       "    .dataframe tbody tr th:only-of-type {\n",
       "        vertical-align: middle;\n",
       "    }\n",
       "\n",
       "    .dataframe tbody tr th {\n",
       "        vertical-align: top;\n",
       "    }\n",
       "\n",
       "    .dataframe thead th {\n",
       "        text-align: right;\n",
       "    }\n",
       "</style>\n",
       "<table border=\"1\" class=\"dataframe\">\n",
       "  <thead>\n",
       "    <tr style=\"text-align: right;\">\n",
       "      <th></th>\n",
       "      <th>cgpa</th>\n",
       "      <th>placement_exam_marks</th>\n",
       "      <th>placed</th>\n",
       "    </tr>\n",
       "  </thead>\n",
       "  <tbody>\n",
       "    <tr>\n",
       "      <th>485</th>\n",
       "      <td>4.92</td>\n",
       "      <td>44.0</td>\n",
       "      <td>1</td>\n",
       "    </tr>\n",
       "    <tr>\n",
       "      <th>995</th>\n",
       "      <td>8.87</td>\n",
       "      <td>44.0</td>\n",
       "      <td>1</td>\n",
       "    </tr>\n",
       "    <tr>\n",
       "      <th>996</th>\n",
       "      <td>9.12</td>\n",
       "      <td>65.0</td>\n",
       "      <td>1</td>\n",
       "    </tr>\n",
       "    <tr>\n",
       "      <th>997</th>\n",
       "      <td>4.89</td>\n",
       "      <td>34.0</td>\n",
       "      <td>0</td>\n",
       "    </tr>\n",
       "    <tr>\n",
       "      <th>999</th>\n",
       "      <td>4.90</td>\n",
       "      <td>10.0</td>\n",
       "      <td>1</td>\n",
       "    </tr>\n",
       "  </tbody>\n",
       "</table>\n",
       "</div>"
      ],
      "text/plain": [
       "     cgpa  placement_exam_marks  placed\n",
       "485  4.92                  44.0       1\n",
       "995  8.87                  44.0       1\n",
       "996  9.12                  65.0       1\n",
       "997  4.89                  34.0       0\n",
       "999  4.90                  10.0       1"
      ]
     },
     "execution_count": 18,
     "metadata": {},
     "output_type": "execute_result"
    }
   ],
   "source": [
    "df[(df[\"cgpa\"]>8.80) | (df[\"cgpa\"]<5.11)]"
   ]
  },
  {
   "cell_type": "markdown",
   "id": "0139285f",
   "metadata": {
    "ExecuteTime": {
     "end_time": "2023-10-08T04:36:43.028806Z",
     "start_time": "2023-10-08T04:36:43.022591Z"
    }
   },
   "source": [
    "### Trimming"
   ]
  },
  {
   "cell_type": "code",
   "execution_count": 19,
   "id": "04811306",
   "metadata": {
    "ExecuteTime": {
     "end_time": "2023-10-08T18:34:44.152187Z",
     "start_time": "2023-10-08T18:34:44.142504Z"
    }
   },
   "outputs": [],
   "source": [
    "new_df = df[(df[\"cgpa\"]<8.80) & (df[\"cgpa\"]>5.11)]"
   ]
  },
  {
   "cell_type": "code",
   "execution_count": 20,
   "id": "35f456f3",
   "metadata": {
    "ExecuteTime": {
     "end_time": "2023-10-08T18:34:45.987652Z",
     "start_time": "2023-10-08T18:34:45.978052Z"
    }
   },
   "outputs": [
    {
     "data": {
      "text/html": [
       "<div>\n",
       "<style scoped>\n",
       "    .dataframe tbody tr th:only-of-type {\n",
       "        vertical-align: middle;\n",
       "    }\n",
       "\n",
       "    .dataframe tbody tr th {\n",
       "        vertical-align: top;\n",
       "    }\n",
       "\n",
       "    .dataframe thead th {\n",
       "        text-align: right;\n",
       "    }\n",
       "</style>\n",
       "<table border=\"1\" class=\"dataframe\">\n",
       "  <thead>\n",
       "    <tr style=\"text-align: right;\">\n",
       "      <th></th>\n",
       "      <th>cgpa</th>\n",
       "      <th>placement_exam_marks</th>\n",
       "      <th>placed</th>\n",
       "    </tr>\n",
       "  </thead>\n",
       "  <tbody>\n",
       "    <tr>\n",
       "      <th>0</th>\n",
       "      <td>7.19</td>\n",
       "      <td>26.0</td>\n",
       "      <td>1</td>\n",
       "    </tr>\n",
       "    <tr>\n",
       "      <th>1</th>\n",
       "      <td>7.46</td>\n",
       "      <td>38.0</td>\n",
       "      <td>1</td>\n",
       "    </tr>\n",
       "    <tr>\n",
       "      <th>2</th>\n",
       "      <td>7.54</td>\n",
       "      <td>40.0</td>\n",
       "      <td>1</td>\n",
       "    </tr>\n",
       "    <tr>\n",
       "      <th>3</th>\n",
       "      <td>6.42</td>\n",
       "      <td>8.0</td>\n",
       "      <td>1</td>\n",
       "    </tr>\n",
       "    <tr>\n",
       "      <th>4</th>\n",
       "      <td>7.23</td>\n",
       "      <td>17.0</td>\n",
       "      <td>0</td>\n",
       "    </tr>\n",
       "  </tbody>\n",
       "</table>\n",
       "</div>"
      ],
      "text/plain": [
       "   cgpa  placement_exam_marks  placed\n",
       "0  7.19                  26.0       1\n",
       "1  7.46                  38.0       1\n",
       "2  7.54                  40.0       1\n",
       "3  6.42                   8.0       1\n",
       "4  7.23                  17.0       0"
      ]
     },
     "execution_count": 20,
     "metadata": {},
     "output_type": "execute_result"
    }
   ],
   "source": [
    "new_df.head()"
   ]
  },
  {
   "cell_type": "code",
   "execution_count": 21,
   "id": "55ac9c8c",
   "metadata": {
    "ExecuteTime": {
     "end_time": "2023-10-08T18:34:54.613257Z",
     "start_time": "2023-10-08T18:34:54.415550Z"
    }
   },
   "outputs": [
    {
     "name": "stderr",
     "output_type": "stream",
     "text": [
      "C:\\Users\\Rishav\\anaconda3\\Lib\\site-packages\\seaborn\\distributions.py:2619: FutureWarning: `distplot` is a deprecated function and will be removed in a future version. Please adapt your code to use either `displot` (a figure-level function with similar flexibility) or `histplot` (an axes-level function for histograms).\n",
      "  warnings.warn(msg, FutureWarning)\n"
     ]
    },
    {
     "data": {
      "text/plain": [
       "<Axes: xlabel='cgpa', ylabel='Density'>"
      ]
     },
     "execution_count": 21,
     "metadata": {},
     "output_type": "execute_result"
    },
    {
     "data": {
      "image/png": "[encoded data removed]",
      "text/plain": [
       "<Figure size 640x480 with 1 Axes>"
      ]
     },
     "metadata": {},
     "output_type": "display_data"
    }
   ],
   "source": [
    "sns.distplot(new_df[\"cgpa\"])"
   ]
  },
  {
   "cell_type": "markdown",
   "id": "987367e9",
   "metadata": {},
   "source": [
    "### Capping"
   ]
  },
  {
   "cell_type": "code",
   "execution_count": 22,
   "id": "4d326179",
   "metadata": {
    "ExecuteTime": {
     "end_time": "2023-10-08T18:35:10.007934Z",
     "start_time": "2023-10-08T18:35:09.999445Z"
    }
   },
   "outputs": [],
   "source": [
    "upper_lmit = df['cgpa'].mean() + 3*df['cgpa'].std()\n",
    "lower_lmit = df['cgpa'].mean() - 3*df['cgpa'].std()"
   ]
  },
  {
   "cell_type": "code",
   "execution_count": 23,
   "id": "b326cf9c",
   "metadata": {
    "ExecuteTime": {
     "end_time": "2023-10-08T18:35:10.539814Z",
     "start_time": "2023-10-08T18:35:10.520916Z"
    }
   },
   "outputs": [
    {
     "data": {
      "text/plain": [
       "array([5.11354637, 5.11354637, 5.11354637, 5.11354637, 5.11354637,\n",
       "       5.11354637, 5.11354637, 5.11354637, 5.11354637, 5.11354637,\n",
       "       5.11354637, 5.11354637, 5.11354637, 5.11354637, 5.11354637,\n",
       "       5.11354637, 5.11354637, 5.11354637, 5.11354637, 5.11354637,\n",
       "       5.11354637, 5.11354637, 5.11354637, 5.11354637, 5.11354637,\n",
       "       5.11354637, 5.11354637, 5.11354637, 5.11354637, 5.11354637,\n",
       "       5.11354637, 5.11354637, 5.11354637, 5.11354637, 5.11354637,\n",
       "       5.11354637, 5.11354637, 5.11354637, 5.11354637, 5.11354637,\n",
       "       5.11354637, 5.11354637, 5.11354637, 5.11354637, 5.11354637,\n",
       "       5.11354637, 5.11354637, 5.11354637, 5.11354637, 5.11354637,\n",
       "       5.11354637, 5.11354637, 5.11354637, 5.11354637, 5.11354637,\n",
       "       5.11354637, 5.11354637, 5.11354637, 5.11354637, 5.11354637,\n",
       "       5.11354637, 5.11354637, 5.11354637, 5.11354637, 5.11354637,\n",
       "       5.11354637, 5.11354637, 5.11354637, 5.11354637, 5.11354637,\n",
       "       5.11354637, 5.11354637, 5.11354637, 5.11354637, 5.11354637,\n",
       "       5.11354637, 5.11354637, 5.11354637, 5.11354637, 5.11354637,\n",
       "       5.11354637, 5.11354637, 5.11354637, 5.11354637, 5.11354637,\n",
       "       5.11354637, 5.11354637, 5.11354637, 5.11354637, 5.11354637,\n",
       "       5.11354637, 5.11354637, 5.11354637, 5.11354637, 5.11354637,\n",
       "       5.11354637, 5.11354637, 5.11354637, 5.11354637, 5.11354637,\n",
       "       5.11354637, 5.11354637, 5.11354637, 5.11354637, 5.11354637,\n",
       "       5.11354637, 5.11354637, 5.11354637, 5.11354637, 5.11354637,\n",
       "       5.11354637, 5.11354637, 5.11354637, 5.11354637, 5.11354637,\n",
       "       5.11354637, 5.11354637, 5.11354637, 5.11354637, 5.11354637,\n",
       "       5.11354637, 5.11354637, 5.11354637, 5.11354637, 5.11354637,\n",
       "       5.11354637, 5.11354637, 5.11354637, 5.11354637, 5.11354637,\n",
       "       5.11354637, 5.11354637, 5.11354637, 5.11354637, 5.11354637,\n",
       "       5.11354637, 5.11354637, 5.11354637, 5.11354637, 5.11354637,\n",
       "       5.11354637, 5.11354637, 5.11354637, 5.11354637, 5.11354637,\n",
       "       5.11354637, 5.11354637, 5.11354637, 5.11354637, 5.11354637,\n",
       "       5.11354637, 5.11354637, 5.11354637, 5.11354637, 5.11354637,\n",
       "       5.11354637, 5.11354637, 5.11354637, 5.11354637, 5.11354637,\n",
       "       5.11354637, 5.11354637, 5.11354637, 5.11354637, 5.11354637,\n",
       "       5.11354637, 5.11354637, 5.11354637, 5.11354637, 5.11354637,\n",
       "       5.11354637, 5.11354637, 5.11354637, 5.11354637, 5.11354637,\n",
       "       5.11354637, 5.11354637, 5.11354637, 5.11354637, 5.11354637,\n",
       "       5.11354637, 5.11354637, 5.11354637, 5.11354637, 5.11354637,\n",
       "       5.11354637, 5.11354637, 5.11354637, 5.11354637, 5.11354637,\n",
       "       5.11354637, 5.11354637, 5.11354637, 5.11354637, 5.11354637,\n",
       "       5.11354637, 5.11354637, 5.11354637, 5.11354637, 5.11354637,\n",
       "       5.11354637, 5.11354637, 5.11354637, 5.11354637, 5.11354637,\n",
       "       5.11354637, 5.11354637, 5.11354637, 5.11354637, 5.11354637,\n",
       "       5.11354637, 5.11354637, 5.11354637, 5.11354637, 5.11354637,\n",
       "       5.11354637, 5.11354637, 5.11354637, 5.11354637, 5.11354637,\n",
       "       5.11354637, 5.11354637, 5.11354637, 5.11354637, 5.11354637,\n",
       "       5.11354637, 5.11354637, 5.11354637, 5.11354637, 5.11354637,\n",
       "       5.11354637, 5.11354637, 5.11354637, 5.11354637, 5.11354637,\n",
       "       5.11354637, 5.11354637, 5.11354637, 5.11354637, 5.11354637,\n",
       "       5.11354637, 5.11354637, 5.11354637, 5.11354637, 5.11354637,\n",
       "       5.11354637, 5.11354637, 5.11354637, 5.11354637, 5.11354637,\n",
       "       5.11354637, 5.11354637, 5.11354637, 5.11354637, 5.11354637,\n",
       "       5.11354637, 5.11354637, 5.11354637, 5.11354637, 5.11354637,\n",
       "       5.11354637, 5.11354637, 5.11354637, 5.11354637, 5.11354637,\n",
       "       5.11354637, 5.11354637, 5.11354637, 5.11354637, 5.11354637,\n",
       "       5.11354637, 5.11354637, 5.11354637, 5.11354637, 5.11354637,\n",
       "       5.11354637, 5.11354637, 5.11354637, 5.11354637, 5.11354637,\n",
       "       5.11354637, 5.11354637, 5.11354637, 5.11354637, 5.11354637,\n",
       "       5.11354637, 5.11354637, 5.11354637, 5.11354637, 5.11354637,\n",
       "       5.11354637, 5.11354637, 5.11354637, 5.11354637, 5.11354637,\n",
       "       5.11354637, 5.11354637, 5.11354637, 5.11354637, 5.11354637,\n",
       "       5.11354637, 5.11354637, 5.11354637, 5.11354637, 5.11354637,\n",
       "       5.11354637, 5.11354637, 5.11354637, 5.11354637, 5.11354637,\n",
       "       5.11354637, 5.11354637, 5.11354637, 5.11354637, 5.11354637,\n",
       "       5.11354637, 5.11354637, 5.11354637, 5.11354637, 5.11354637,\n",
       "       5.11354637, 5.11354637, 5.11354637, 5.11354637, 5.11354637,\n",
       "       5.11354637, 5.11354637, 5.11354637, 5.11354637, 5.11354637,\n",
       "       5.11354637, 5.11354637, 5.11354637, 5.11354637, 5.11354637,\n",
       "       5.11354637, 5.11354637, 5.11354637, 5.11354637, 5.11354637,\n",
       "       5.11354637, 5.11354637, 5.11354637, 5.11354637, 5.11354637,\n",
       "       5.11354637, 5.11354637, 5.11354637, 5.11354637, 5.11354637,\n",
       "       5.11354637, 5.11354637, 5.11354637, 5.11354637, 5.11354637,\n",
       "       5.11354637, 5.11354637, 5.11354637, 5.11354637, 5.11354637,\n",
       "       5.11354637, 5.11354637, 5.11354637, 5.11354637, 5.11354637,\n",
       "       5.11354637, 5.11354637, 5.11354637, 5.11354637, 5.11354637,\n",
       "       5.11354637, 5.11354637, 5.11354637, 5.11354637, 5.11354637,\n",
       "       5.11354637, 5.11354637, 5.11354637, 5.11354637, 5.11354637,\n",
       "       5.11354637, 5.11354637, 5.11354637, 5.11354637, 5.11354637,\n",
       "       5.11354637, 5.11354637, 5.11354637, 5.11354637, 5.11354637,\n",
       "       5.11354637, 5.11354637, 5.11354637, 5.11354637, 5.11354637,\n",
       "       5.11354637, 5.11354637, 5.11354637, 5.11354637, 5.11354637,\n",
       "       5.11354637, 5.11354637, 5.11354637, 5.11354637, 5.11354637,\n",
       "       5.11354637, 5.11354637, 5.11354637, 5.11354637, 5.11354637,\n",
       "       5.11354637, 5.11354637, 5.11354637, 5.11354637, 5.11354637,\n",
       "       5.11354637, 5.11354637, 5.11354637, 5.11354637, 5.11354637,\n",
       "       5.11354637, 5.11354637, 5.11354637, 5.11354637, 5.11354637,\n",
       "       5.11354637, 5.11354637, 5.11354637, 5.11354637, 5.11354637,\n",
       "       5.11354637, 5.11354637, 5.11354637, 5.11354637, 5.11354637,\n",
       "       5.11354637, 5.11354637, 5.11354637, 5.11354637, 5.11354637,\n",
       "       5.11354637, 5.11354637, 5.11354637, 5.11354637, 5.11354637,\n",
       "       5.11354637, 5.11354637, 5.11354637, 5.11354637, 5.11354637,\n",
       "       5.11354637, 5.11354637, 5.11354637, 5.11354637, 5.11354637,\n",
       "       5.11354637, 5.11354637, 5.11354637, 5.11354637, 5.11354637,\n",
       "       5.11354637, 5.11354637, 5.11354637, 5.11354637, 5.11354637,\n",
       "       5.11354637, 5.11354637, 5.11354637, 5.11354637, 5.11354637,\n",
       "       5.11354637, 5.11354637, 5.11354637, 5.11354637, 5.11354637,\n",
       "       5.11354637, 5.11354637, 5.11354637, 5.11354637, 5.11354637,\n",
       "       5.11354637, 5.11354637, 5.11354637, 5.11354637, 5.11354637,\n",
       "       4.92      , 5.11354637, 5.11354637, 5.11354637, 5.11354637,\n",
       "       5.11354637, 5.11354637, 5.11354637, 5.11354637, 5.11354637,\n",
       "       5.11354637, 5.11354637, 5.11354637, 5.11354637, 5.11354637,\n",
       "       5.11354637, 5.11354637, 5.11354637, 5.11354637, 5.11354637,\n",
       "       5.11354637, 5.11354637, 5.11354637, 5.11354637, 5.11354637,\n",
       "       5.11354637, 5.11354637, 5.11354637, 5.11354637, 5.11354637,\n",
       "       5.11354637, 5.11354637, 5.11354637, 5.11354637, 5.11354637,\n",
       "       5.11354637, 5.11354637, 5.11354637, 5.11354637, 5.11354637,\n",
       "       5.11354637, 5.11354637, 5.11354637, 5.11354637, 5.11354637,\n",
       "       5.11354637, 5.11354637, 5.11354637, 5.11354637, 5.11354637,\n",
       "       5.11354637, 5.11354637, 5.11354637, 5.11354637, 5.11354637,\n",
       "       5.11354637, 5.11354637, 5.11354637, 5.11354637, 5.11354637,\n",
       "       5.11354637, 5.11354637, 5.11354637, 5.11354637, 5.11354637,\n",
       "       5.11354637, 5.11354637, 5.11354637, 5.11354637, 5.11354637,\n",
       "       5.11354637, 5.11354637, 5.11354637, 5.11354637, 5.11354637,\n",
       "       5.11354637, 5.11354637, 5.11354637, 5.11354637, 5.11354637,\n",
       "       5.11354637, 5.11354637, 5.11354637, 5.11354637, 5.11354637,\n",
       "       5.11354637, 5.11354637, 5.11354637, 5.11354637, 5.11354637,\n",
       "       5.11354637, 5.11354637, 5.11354637, 5.11354637, 5.11354637,\n",
       "       5.11354637, 5.11354637, 5.11354637, 5.11354637, 5.11354637,\n",
       "       5.11354637, 5.11354637, 5.11354637, 5.11354637, 5.11354637,\n",
       "       5.11354637, 5.11354637, 5.11354637, 5.11354637, 5.11354637,\n",
       "       5.11354637, 5.11354637, 5.11354637, 5.11354637, 5.11354637,\n",
       "       5.11354637, 5.11354637, 5.11354637, 5.11354637, 5.11354637,\n",
       "       5.11354637, 5.11354637, 5.11354637, 5.11354637, 5.11354637,\n",
       "       5.11354637, 5.11354637, 5.11354637, 5.11354637, 5.11354637,\n",
       "       5.11354637, 5.11354637, 5.11354637, 5.11354637, 5.11354637,\n",
       "       5.11354637, 5.11354637, 5.11354637, 5.11354637, 5.11354637,\n",
       "       5.11354637, 5.11354637, 5.11354637, 5.11354637, 5.11354637,\n",
       "       5.11354637, 5.11354637, 5.11354637, 5.11354637, 5.11354637,\n",
       "       5.11354637, 5.11354637, 5.11354637, 5.11354637, 5.11354637,\n",
       "       5.11354637, 5.11354637, 5.11354637, 5.11354637, 5.11354637,\n",
       "       5.11354637, 5.11354637, 5.11354637, 5.11354637, 5.11354637,\n",
       "       5.11354637, 5.11354637, 5.11354637, 5.11354637, 5.11354637,\n",
       "       5.11354637, 5.11354637, 5.11354637, 5.11354637, 5.11354637,\n",
       "       5.11354637, 5.11354637, 5.11354637, 5.11354637, 5.11354637,\n",
       "       5.11354637, 5.11354637, 5.11354637, 5.11354637, 5.11354637,\n",
       "       5.11354637, 5.11354637, 5.11354637, 5.11354637, 5.11354637,\n",
       "       5.11354637, 5.11354637, 5.11354637, 5.11354637, 5.11354637,\n",
       "       5.11354637, 5.11354637, 5.11354637, 5.11354637, 5.11354637,\n",
       "       5.11354637, 5.11354637, 5.11354637, 5.11354637, 5.11354637,\n",
       "       5.11354637, 5.11354637, 5.11354637, 5.11354637, 5.11354637,\n",
       "       5.11354637, 5.11354637, 5.11354637, 5.11354637, 5.11354637,\n",
       "       5.11354637, 5.11354637, 5.11354637, 5.11354637, 5.11354637,\n",
       "       5.11354637, 5.11354637, 5.11354637, 5.11354637, 5.11354637,\n",
       "       5.11354637, 5.11354637, 5.11354637, 5.11354637, 5.11354637,\n",
       "       5.11354637, 5.11354637, 5.11354637, 5.11354637, 5.11354637,\n",
       "       5.11354637, 5.11354637, 5.11354637, 5.11354637, 5.11354637,\n",
       "       5.11354637, 5.11354637, 5.11354637, 5.11354637, 5.11354637,\n",
       "       5.11354637, 5.11354637, 5.11354637, 5.11354637, 5.11354637,\n",
       "       5.11354637, 5.11354637, 5.11354637, 5.11354637, 5.11354637,\n",
       "       5.11354637, 5.11354637, 5.11354637, 5.11354637, 5.11354637,\n",
       "       5.11354637, 5.11354637, 5.11354637, 5.11354637, 5.11354637,\n",
       "       5.11354637, 5.11354637, 5.11354637, 5.11354637, 5.11354637,\n",
       "       5.11354637, 5.11354637, 5.11354637, 5.11354637, 5.11354637,\n",
       "       5.11354637, 5.11354637, 5.11354637, 5.11354637, 5.11354637,\n",
       "       5.11354637, 5.11354637, 5.11354637, 5.11354637, 5.11354637,\n",
       "       5.11354637, 5.11354637, 5.11354637, 5.11354637, 5.11354637,\n",
       "       5.11354637, 5.11354637, 5.11354637, 5.11354637, 5.11354637,\n",
       "       5.11354637, 5.11354637, 5.11354637, 5.11354637, 5.11354637,\n",
       "       5.11354637, 5.11354637, 5.11354637, 5.11354637, 5.11354637,\n",
       "       5.11354637, 5.11354637, 5.11354637, 5.11354637, 5.11354637,\n",
       "       5.11354637, 5.11354637, 5.11354637, 5.11354637, 5.11354637,\n",
       "       5.11354637, 5.11354637, 5.11354637, 5.11354637, 5.11354637,\n",
       "       5.11354637, 5.11354637, 5.11354637, 5.11354637, 5.11354637,\n",
       "       5.11354637, 5.11354637, 5.11354637, 5.11354637, 5.11354637,\n",
       "       5.11354637, 5.11354637, 5.11354637, 5.11354637, 5.11354637,\n",
       "       5.11354637, 5.11354637, 5.11354637, 5.11354637, 5.11354637,\n",
       "       5.11354637, 5.11354637, 5.11354637, 5.11354637, 5.11354637,\n",
       "       5.11354637, 5.11354637, 5.11354637, 5.11354637, 5.11354637,\n",
       "       5.11354637, 5.11354637, 5.11354637, 5.11354637, 5.11354637,\n",
       "       5.11354637, 5.11354637, 5.11354637, 5.11354637, 5.11354637,\n",
       "       5.11354637, 5.11354637, 5.11354637, 5.11354637, 5.11354637,\n",
       "       5.11354637, 5.11354637, 5.11354637, 5.11354637, 5.11354637,\n",
       "       5.11354637, 5.11354637, 5.11354637, 5.11354637, 5.11354637,\n",
       "       5.11354637, 5.11354637, 5.11354637, 5.11354637, 5.11354637,\n",
       "       5.11354637, 5.11354637, 5.11354637, 5.11354637, 5.11354637,\n",
       "       5.11354637, 5.11354637, 5.11354637, 5.11354637, 5.11354637,\n",
       "       5.11354637, 5.11354637, 5.11354637, 5.11354637, 5.11354637,\n",
       "       5.11354637, 5.11354637, 5.11354637, 5.11354637, 5.11354637,\n",
       "       5.11354637, 5.11354637, 5.11354637, 5.11354637, 5.11354637,\n",
       "       5.11354637, 5.11354637, 5.11354637, 5.11354637, 5.11354637,\n",
       "       5.11354637, 5.11354637, 5.11354637, 5.11354637, 5.11354637,\n",
       "       5.11354637, 5.11354637, 5.11354637, 5.11354637, 5.11354637,\n",
       "       5.11354637, 5.11354637, 5.11354637, 5.11354637, 5.11354637,\n",
       "       5.11354637, 5.11354637, 5.11354637, 5.11354637, 5.11354637,\n",
       "       5.11354637, 5.11354637, 5.11354637, 5.11354637, 5.11354637,\n",
       "       5.11354637, 5.11354637, 5.11354637, 5.11354637, 5.11354637,\n",
       "       5.11354637, 5.11354637, 5.11354637, 5.11354637, 5.11354637,\n",
       "       5.11354637, 5.11354637, 5.11354637, 5.11354637, 5.11354637,\n",
       "       5.11354637, 5.11354637, 5.11354637, 5.11354637, 5.11354637,\n",
       "       5.11354637, 5.11354637, 5.11354637, 5.11354637, 5.11354637,\n",
       "       5.11354637, 5.11354637, 5.11354637, 5.11354637, 5.11354637,\n",
       "       5.11354637, 5.11354637, 5.11354637, 5.11354637, 5.11354637,\n",
       "       5.11354637, 5.11354637, 5.11354637, 5.11354637, 5.11354637,\n",
       "       5.11354637, 5.11354637, 5.11354637, 5.11354637, 5.11354637,\n",
       "       5.11354637, 5.11354637, 5.11354637, 5.11354637, 5.11354637,\n",
       "       5.11354637, 5.11354637, 5.11354637, 5.11354637, 5.11354637,\n",
       "       5.11354637, 5.11354637, 5.11354637, 5.11354637, 5.11354637,\n",
       "       5.11354637, 5.11354637, 5.11354637, 5.11354637, 5.11354637,\n",
       "       5.11354637, 5.11354637, 5.11354637, 5.11354637, 5.11354637,\n",
       "       5.11354637, 5.11354637, 5.11354637, 5.11354637, 5.11354637,\n",
       "       8.80893363, 8.80893363, 4.89      , 5.11354637, 4.9       ])"
      ]
     },
     "execution_count": 23,
     "metadata": {},
     "output_type": "execute_result"
    }
   ],
   "source": [
    "import numpy as np\n",
    "np.where(df[\"cgpa\"]>upper_lmit,upper_lmit, np.where(df[\"cgpa\"]>lower_lmit,lower_lmit, df[\"cgpa\"]))"
   ]
  },
  {
   "cell_type": "code",
   "execution_count": 24,
   "id": "85a1201a",
   "metadata": {
    "ExecuteTime": {
     "end_time": "2023-10-08T18:35:36.572536Z",
     "start_time": "2023-10-08T18:35:36.564664Z"
    }
   },
   "outputs": [],
   "source": [
    "df[\"cgpa\"] = np.where(df[\"cgpa\"]>upper_lmit,upper_lmit, df[\"cgpa\"])"
   ]
  },
  {
   "cell_type": "code",
   "execution_count": 25,
   "id": "91987f30",
   "metadata": {
    "ExecuteTime": {
     "end_time": "2023-10-08T18:35:37.278822Z",
     "start_time": "2023-10-08T18:35:37.272782Z"
    }
   },
   "outputs": [],
   "source": [
    "df[\"cgpa\"] = np.where(df[\"cgpa\"]<lower_lmit,lower_lmit, df[\"cgpa\"])"
   ]
  },
  {
   "cell_type": "code",
   "execution_count": 26,
   "id": "7101a41a",
   "metadata": {
    "ExecuteTime": {
     "end_time": "2023-10-08T18:35:41.510265Z",
     "start_time": "2023-10-08T18:35:41.499963Z"
    }
   },
   "outputs": [
    {
     "data": {
      "text/plain": [
       "8.808933625397168"
      ]
     },
     "execution_count": 26,
     "metadata": {},
     "output_type": "execute_result"
    }
   ],
   "source": [
    "df[\"cgpa\"].max()"
   ]
  },
  {
   "cell_type": "code",
   "execution_count": 27,
   "id": "e9782888",
   "metadata": {
    "ExecuteTime": {
     "end_time": "2023-10-08T18:35:42.287864Z",
     "start_time": "2023-10-08T18:35:42.278435Z"
    }
   },
   "outputs": [
    {
     "data": {
      "text/plain": [
       "5.113546374602832"
      ]
     },
     "execution_count": 27,
     "metadata": {},
     "output_type": "execute_result"
    }
   ],
   "source": [
    "df[\"cgpa\"].min()"
   ]
  },
  {
   "cell_type": "code",
   "execution_count": 28,
   "id": "ca85378f",
   "metadata": {
    "ExecuteTime": {
     "end_time": "2023-10-08T18:35:49.327762Z",
     "start_time": "2023-10-08T18:35:49.320389Z"
    }
   },
   "outputs": [
    {
     "data": {
      "text/plain": [
       "8.808933625397168"
      ]
     },
     "execution_count": 28,
     "metadata": {},
     "output_type": "execute_result"
    }
   ],
   "source": [
    "upper_lmit"
   ]
  },
  {
   "cell_type": "code",
   "execution_count": 29,
   "id": "ad6ab67b",
   "metadata": {
    "ExecuteTime": {
     "end_time": "2023-10-08T18:35:49.886726Z",
     "start_time": "2023-10-08T18:35:49.877509Z"
    }
   },
   "outputs": [
    {
     "data": {
      "text/plain": [
       "5.113546374602832"
      ]
     },
     "execution_count": 29,
     "metadata": {},
     "output_type": "execute_result"
    }
   ],
   "source": [
    "lower_lmit"
   ]
  },
  {
   "cell_type": "code",
   "execution_count": 30,
   "id": "c9d9235a",
   "metadata": {
    "ExecuteTime": {
     "end_time": "2023-10-08T18:35:56.529345Z",
     "start_time": "2023-10-08T18:35:56.519781Z"
    }
   },
   "outputs": [
    {
     "data": {
      "text/plain": [
       "(1000, 3)"
      ]
     },
     "execution_count": 30,
     "metadata": {},
     "output_type": "execute_result"
    }
   ],
   "source": [
    "df.shape"
   ]
  },
  {
   "cell_type": "code",
   "execution_count": 31,
   "id": "e06b207e",
   "metadata": {
    "ExecuteTime": {
     "end_time": "2023-10-08T18:35:57.440234Z",
     "start_time": "2023-10-08T18:35:57.192868Z"
    }
   },
   "outputs": [
    {
     "name": "stderr",
     "output_type": "stream",
     "text": [
      "C:\\Users\\Rishav\\anaconda3\\Lib\\site-packages\\seaborn\\distributions.py:2619: FutureWarning: `distplot` is a deprecated function and will be removed in a future version. Please adapt your code to use either `displot` (a figure-level function with similar flexibility) or `histplot` (an axes-level function for histograms).\n",
      "  warnings.warn(msg, FutureWarning)\n"
     ]
    },
    {
     "data": {
      "text/plain": [
       "<Axes: xlabel='cgpa', ylabel='Density'>"
      ]
     },
     "execution_count": 31,
     "metadata": {},
     "output_type": "execute_result"
    },
    {
     "data": {
      "image/png": "[encoded data removed]",
      "text/plain": [
       "<Figure size 640x480 with 1 Axes>"
      ]
     },
     "metadata": {},
     "output_type": "display_data"
    }
   ],
   "source": [
    "sns.distplot(df[\"cgpa\"])"
   ]
  },
  {
   "cell_type": "code",
   "execution_count": 32,
   "id": "2d410296",
   "metadata": {
    "ExecuteTime": {
     "end_time": "2023-10-08T18:36:37.244135Z",
     "start_time": "2023-10-08T18:36:37.130071Z"
    }
   },
   "outputs": [
    {
     "name": "stderr",
     "output_type": "stream",
     "text": [
      "C:\\Users\\Rishav\\anaconda3\\Lib\\site-packages\\seaborn\\_decorators.py:36: FutureWarning: Pass the following variable as a keyword arg: x. From version 0.12, the only valid positional argument will be `data`, and passing other arguments without an explicit keyword will result in an error or misinterpretation.\n",
      "  warnings.warn(\n"
     ]
    },
    {
     "data": {
      "text/plain": [
       "<Axes: xlabel='placement_exam_marks'>"
      ]
     },
     "execution_count": 32,
     "metadata": {},
     "output_type": "execute_result"
    },
    {
     "data": {
      "image/png": "[encoded data removed]",
      "text/plain": [
       "<Figure size 640x480 with 1 Axes>"
      ]
     },
     "metadata": {},
     "output_type": "display_data"
    }
   ],
   "source": [
    "sns.boxplot(df['placement_exam_marks'])"
   ]
  },
  {
   "cell_type": "code",
   "execution_count": 33,
   "id": "592a0e7a",
   "metadata": {
    "ExecuteTime": {
     "end_time": "2023-10-08T18:36:44.973317Z",
     "start_time": "2023-10-08T18:36:44.962983Z"
    }
   },
   "outputs": [],
   "source": [
    "percentile25 = df['placement_exam_marks'].quantile(0.25)\n",
    "percentile75 = df['placement_exam_marks'].quantile(0.75)"
   ]
  },
  {
   "cell_type": "code",
   "execution_count": 34,
   "id": "9ee65eef",
   "metadata": {
    "ExecuteTime": {
     "end_time": "2023-10-08T18:36:45.788849Z",
     "start_time": "2023-10-08T18:36:45.779989Z"
    }
   },
   "outputs": [
    {
     "data": {
      "text/plain": [
       "44.0"
      ]
     },
     "execution_count": 34,
     "metadata": {},
     "output_type": "execute_result"
    }
   ],
   "source": [
    "percentile75"
   ]
  },
  {
   "cell_type": "code",
   "execution_count": 35,
   "id": "9919ec60",
   "metadata": {
    "ExecuteTime": {
     "end_time": "2023-10-08T18:36:49.749224Z",
     "start_time": "2023-10-08T18:36:49.743334Z"
    }
   },
   "outputs": [
    {
     "data": {
      "text/plain": [
       "17.0"
      ]
     },
     "execution_count": 35,
     "metadata": {},
     "output_type": "execute_result"
    }
   ],
   "source": [
    "percentile25"
   ]
  },
  {
   "cell_type": "code",
   "execution_count": 36,
   "id": "ba8916ce",
   "metadata": {
    "ExecuteTime": {
     "end_time": "2023-10-08T18:36:56.778989Z",
     "start_time": "2023-10-08T18:36:56.772483Z"
    }
   },
   "outputs": [],
   "source": [
    "iqr = percentile75-percentile25"
   ]
  },
  {
   "cell_type": "code",
   "execution_count": 37,
   "id": "9a25cb42",
   "metadata": {
    "ExecuteTime": {
     "end_time": "2023-10-08T18:36:58.148030Z",
     "start_time": "2023-10-08T18:36:58.140088Z"
    }
   },
   "outputs": [
    {
     "data": {
      "text/plain": [
       "27.0"
      ]
     },
     "execution_count": 37,
     "metadata": {},
     "output_type": "execute_result"
    }
   ],
   "source": [
    "iqr"
   ]
  },
  {
   "cell_type": "code",
   "execution_count": 38,
   "id": "f2d7f391",
   "metadata": {
    "ExecuteTime": {
     "end_time": "2023-10-08T18:37:03.330772Z",
     "start_time": "2023-10-08T18:37:03.323963Z"
    }
   },
   "outputs": [],
   "source": [
    "lower_fence = percentile25 - 1.58*iqr\n",
    "upper_fence = percentile75 + 1.58*iqr"
   ]
  },
  {
   "cell_type": "code",
   "execution_count": 39,
   "id": "dfcb6e47",
   "metadata": {
    "ExecuteTime": {
     "end_time": "2023-10-08T18:37:04.047561Z",
     "start_time": "2023-10-08T18:37:04.038691Z"
    }
   },
   "outputs": [
    {
     "data": {
      "text/plain": [
       "-25.660000000000004"
      ]
     },
     "execution_count": 39,
     "metadata": {},
     "output_type": "execute_result"
    }
   ],
   "source": [
    "lower_fence"
   ]
  },
  {
   "cell_type": "code",
   "execution_count": 40,
   "id": "58056819",
   "metadata": {
    "ExecuteTime": {
     "end_time": "2023-10-08T18:37:09.645441Z",
     "start_time": "2023-10-08T18:37:09.635859Z"
    }
   },
   "outputs": [
    {
     "data": {
      "text/plain": [
       "86.66"
      ]
     },
     "execution_count": 40,
     "metadata": {},
     "output_type": "execute_result"
    }
   ],
   "source": [
    "upper_fence"
   ]
  },
  {
   "cell_type": "code",
   "execution_count": 41,
   "id": "d2e6e775",
   "metadata": {
    "ExecuteTime": {
     "end_time": "2023-10-08T18:38:27.026536Z",
     "start_time": "2023-10-08T18:38:27.008107Z"
    }
   },
   "outputs": [
    {
     "data": {
      "text/html": [
       "<div>\n",
       "<style scoped>\n",
       "    .dataframe tbody tr th:only-of-type {\n",
       "        vertical-align: middle;\n",
       "    }\n",
       "\n",
       "    .dataframe tbody tr th {\n",
       "        vertical-align: top;\n",
       "    }\n",
       "\n",
       "    .dataframe thead th {\n",
       "        text-align: right;\n",
       "    }\n",
       "</style>\n",
       "<table border=\"1\" class=\"dataframe\">\n",
       "  <thead>\n",
       "    <tr style=\"text-align: right;\">\n",
       "      <th></th>\n",
       "      <th>cgpa</th>\n",
       "      <th>placement_exam_marks</th>\n",
       "      <th>placed</th>\n",
       "    </tr>\n",
       "  </thead>\n",
       "  <tbody>\n",
       "    <tr>\n",
       "      <th>9</th>\n",
       "      <td>7.75</td>\n",
       "      <td>94.0</td>\n",
       "      <td>1</td>\n",
       "    </tr>\n",
       "    <tr>\n",
       "      <th>134</th>\n",
       "      <td>6.33</td>\n",
       "      <td>93.0</td>\n",
       "      <td>0</td>\n",
       "    </tr>\n",
       "    <tr>\n",
       "      <th>162</th>\n",
       "      <td>7.80</td>\n",
       "      <td>90.0</td>\n",
       "      <td>0</td>\n",
       "    </tr>\n",
       "    <tr>\n",
       "      <th>283</th>\n",
       "      <td>7.09</td>\n",
       "      <td>87.0</td>\n",
       "      <td>0</td>\n",
       "    </tr>\n",
       "    <tr>\n",
       "      <th>290</th>\n",
       "      <td>8.38</td>\n",
       "      <td>87.0</td>\n",
       "      <td>0</td>\n",
       "    </tr>\n",
       "    <tr>\n",
       "      <th>311</th>\n",
       "      <td>6.97</td>\n",
       "      <td>87.0</td>\n",
       "      <td>1</td>\n",
       "    </tr>\n",
       "    <tr>\n",
       "      <th>324</th>\n",
       "      <td>6.64</td>\n",
       "      <td>90.0</td>\n",
       "      <td>0</td>\n",
       "    </tr>\n",
       "    <tr>\n",
       "      <th>630</th>\n",
       "      <td>6.56</td>\n",
       "      <td>96.0</td>\n",
       "      <td>1</td>\n",
       "    </tr>\n",
       "    <tr>\n",
       "      <th>685</th>\n",
       "      <td>6.05</td>\n",
       "      <td>87.0</td>\n",
       "      <td>1</td>\n",
       "    </tr>\n",
       "    <tr>\n",
       "      <th>730</th>\n",
       "      <td>6.14</td>\n",
       "      <td>90.0</td>\n",
       "      <td>1</td>\n",
       "    </tr>\n",
       "    <tr>\n",
       "      <th>846</th>\n",
       "      <td>6.99</td>\n",
       "      <td>97.0</td>\n",
       "      <td>0</td>\n",
       "    </tr>\n",
       "    <tr>\n",
       "      <th>917</th>\n",
       "      <td>5.95</td>\n",
       "      <td>100.0</td>\n",
       "      <td>0</td>\n",
       "    </tr>\n",
       "  </tbody>\n",
       "</table>\n",
       "</div>"
      ],
      "text/plain": [
       "     cgpa  placement_exam_marks  placed\n",
       "9    7.75                  94.0       1\n",
       "134  6.33                  93.0       0\n",
       "162  7.80                  90.0       0\n",
       "283  7.09                  87.0       0\n",
       "290  8.38                  87.0       0\n",
       "311  6.97                  87.0       1\n",
       "324  6.64                  90.0       0\n",
       "630  6.56                  96.0       1\n",
       "685  6.05                  87.0       1\n",
       "730  6.14                  90.0       1\n",
       "846  6.99                  97.0       0\n",
       "917  5.95                 100.0       0"
      ]
     },
     "execution_count": 41,
     "metadata": {},
     "output_type": "execute_result"
    }
   ],
   "source": [
    "df[df['placement_exam_marks']> upper_fence]"
   ]
  },
  {
   "cell_type": "code",
   "execution_count": 42,
   "id": "edaf18c9",
   "metadata": {
    "ExecuteTime": {
     "end_time": "2023-10-08T18:38:37.416200Z",
     "start_time": "2023-10-08T18:38:37.403297Z"
    }
   },
   "outputs": [
    {
     "data": {
      "text/html": [
       "<div>\n",
       "<style scoped>\n",
       "    .dataframe tbody tr th:only-of-type {\n",
       "        vertical-align: middle;\n",
       "    }\n",
       "\n",
       "    .dataframe tbody tr th {\n",
       "        vertical-align: top;\n",
       "    }\n",
       "\n",
       "    .dataframe thead th {\n",
       "        text-align: right;\n",
       "    }\n",
       "</style>\n",
       "<table border=\"1\" class=\"dataframe\">\n",
       "  <thead>\n",
       "    <tr style=\"text-align: right;\">\n",
       "      <th></th>\n",
       "      <th>cgpa</th>\n",
       "      <th>placement_exam_marks</th>\n",
       "      <th>placed</th>\n",
       "    </tr>\n",
       "  </thead>\n",
       "  <tbody>\n",
       "  </tbody>\n",
       "</table>\n",
       "</div>"
      ],
      "text/plain": [
       "Empty DataFrame\n",
       "Columns: [cgpa, placement_exam_marks, placed]\n",
       "Index: []"
      ]
     },
     "execution_count": 42,
     "metadata": {},
     "output_type": "execute_result"
    }
   ],
   "source": [
    "df[df['placement_exam_marks'] < lower_fence]"
   ]
  },
  {
   "cell_type": "code",
   "execution_count": 43,
   "id": "650fa3aa",
   "metadata": {
    "ExecuteTime": {
     "end_time": "2023-10-08T18:38:46.173126Z",
     "start_time": "2023-10-08T18:38:46.163728Z"
    }
   },
   "outputs": [],
   "source": [
    "new_df = df[df['placement_exam_marks'] <= upper_fence]"
   ]
  },
  {
   "cell_type": "code",
   "execution_count": 44,
   "id": "74177781",
   "metadata": {
    "ExecuteTime": {
     "end_time": "2023-10-08T18:38:46.795264Z",
     "start_time": "2023-10-08T18:38:46.788013Z"
    }
   },
   "outputs": [
    {
     "data": {
      "text/plain": [
       "(988, 3)"
      ]
     },
     "execution_count": 44,
     "metadata": {},
     "output_type": "execute_result"
    }
   ],
   "source": [
    "new_df.shape"
   ]
  },
  {
   "cell_type": "code",
   "execution_count": 45,
   "id": "5e137ea0",
   "metadata": {
    "ExecuteTime": {
     "end_time": "2023-10-08T18:38:52.697445Z",
     "start_time": "2023-10-08T18:38:52.547791Z"
    }
   },
   "outputs": [
    {
     "name": "stderr",
     "output_type": "stream",
     "text": [
      "C:\\Users\\Rishav\\anaconda3\\Lib\\site-packages\\seaborn\\_decorators.py:36: FutureWarning: Pass the following variable as a keyword arg: x. From version 0.12, the only valid positional argument will be `data`, and passing other arguments without an explicit keyword will result in an error or misinterpretation.\n",
      "  warnings.warn(\n"
     ]
    },
    {
     "data": {
      "text/plain": [
       "<Axes: xlabel='placement_exam_marks'>"
      ]
     },
     "execution_count": 45,
     "metadata": {},
     "output_type": "execute_result"
    },
    {
     "data": {
      "image/png": "[encoded data removed]",
      "text/plain": [
       "<Figure size 640x480 with 1 Axes>"
      ]
     },
     "metadata": {},
     "output_type": "display_data"
    }
   ],
   "source": [
    "sns.boxplot(new_df[\"placement_exam_marks\"])"
   ]
  },
  {
   "cell_type": "code",
   "execution_count": 46,
   "id": "912f9ab0",
   "metadata": {
    "ExecuteTime": {
     "end_time": "2023-10-08T18:42:05.624157Z",
     "start_time": "2023-10-08T18:42:05.007167Z"
    }
   },
   "outputs": [
    {
     "name": "stderr",
     "output_type": "stream",
     "text": [
      "C:\\Users\\Rishav\\anaconda3\\Lib\\site-packages\\seaborn\\distributions.py:2619: FutureWarning: `distplot` is a deprecated function and will be removed in a future version. Please adapt your code to use either `displot` (a figure-level function with similar flexibility) or `histplot` (an axes-level function for histograms).\n",
      "  warnings.warn(msg, FutureWarning)\n",
      "C:\\Users\\Rishav\\anaconda3\\Lib\\site-packages\\seaborn\\_decorators.py:36: FutureWarning: Pass the following variable as a keyword arg: x. From version 0.12, the only valid positional argument will be `data`, and passing other arguments without an explicit keyword will result in an error or misinterpretation.\n",
      "  warnings.warn(\n",
      "C:\\Users\\Rishav\\anaconda3\\Lib\\site-packages\\seaborn\\distributions.py:2619: FutureWarning: `distplot` is a deprecated function and will be removed in a future version. Please adapt your code to use either `displot` (a figure-level function with similar flexibility) or `histplot` (an axes-level function for histograms).\n",
      "  warnings.warn(msg, FutureWarning)\n",
      "C:\\Users\\Rishav\\anaconda3\\Lib\\site-packages\\seaborn\\_decorators.py:36: FutureWarning: Pass the following variable as a keyword arg: x. From version 0.12, the only valid positional argument will be `data`, and passing other arguments without an explicit keyword will result in an error or misinterpretation.\n",
      "  warnings.warn(\n"
     ]
    },
    {
     "data": {
      "text/plain": [
       "<Axes: xlabel='placement_exam_marks'>"
      ]
     },
     "execution_count": 46,
     "metadata": {},
     "output_type": "execute_result"
    },
    {
     "data": {
      "image/png": "[encoded data removed]",
      "text/plain": [
       "<Figure size 1600x800 with 4 Axes>"
      ]
     },
     "metadata": {},
     "output_type": "display_data"
    }
   ],
   "source": [
    "plt.figure(figsize=(16, 8))\n",
    "plt.subplot(2, 2, 1)\n",
    "sns.distplot(df['placement_exam_marks'])\n",
    "\n",
    "plt.subplot(2, 2, 2)\n",
    "sns.boxplot(df['placement_exam_marks'])\n",
    "\n",
    "plt.subplot(2, 2, 3)\n",
    "sns.distplot(new_df['placement_exam_marks'])\n",
    "\n",
    "plt.subplot(2, 2, 4)\n",
    "sns.boxplot(new_df['placement_exam_marks'])"
   ]
  },
  {
   "cell_type": "markdown",
   "id": "2f7a6fa3",
   "metadata": {},
   "source": [
    "### Capping method on column placement exam marks"
   ]
  },
  {
   "cell_type": "markdown",
   "id": "e5b14fd6",
   "metadata": {},
   "source": [
    "### percentile"
   ]
  },
  {
   "cell_type": "code",
   "execution_count": 47,
   "id": "8fe3e934",
   "metadata": {
    "ExecuteTime": {
     "end_time": "2023-10-08T18:42:35.735594Z",
     "start_time": "2023-10-08T18:42:35.725519Z"
    }
   },
   "outputs": [],
   "source": [
    "percentile10 = df['placement_exam_marks'].quantile(0.10)\n",
    "percentile85 = df['placement_exam_marks'].quantile(0.85)"
   ]
  },
  {
   "cell_type": "code",
   "execution_count": 48,
   "id": "23eb2bfd",
   "metadata": {
    "ExecuteTime": {
     "end_time": "2023-10-08T18:42:51.479291Z",
     "start_time": "2023-10-08T18:42:51.421971Z"
    }
   },
   "outputs": [],
   "source": [
    "df = sns.load_dataset(\"tips\")"
   ]
  },
  {
   "cell_type": "code",
   "execution_count": 49,
   "id": "78c5af85",
   "metadata": {
    "ExecuteTime": {
     "end_time": "2023-10-08T18:42:56.968700Z",
     "start_time": "2023-10-08T18:42:56.898562Z"
    }
   },
   "outputs": [
    {
     "data": {
      "text/html": [
       "<div>\n",
       "<style scoped>\n",
       "    .dataframe tbody tr th:only-of-type {\n",
       "        vertical-align: middle;\n",
       "    }\n",
       "\n",
       "    .dataframe tbody tr th {\n",
       "        vertical-align: top;\n",
       "    }\n",
       "\n",
       "    .dataframe thead th {\n",
       "        text-align: right;\n",
       "    }\n",
       "</style>\n",
       "<table border=\"1\" class=\"dataframe\">\n",
       "  <thead>\n",
       "    <tr style=\"text-align: right;\">\n",
       "      <th></th>\n",
       "      <th>total_bill</th>\n",
       "      <th>tip</th>\n",
       "      <th>sex</th>\n",
       "      <th>smoker</th>\n",
       "      <th>day</th>\n",
       "      <th>time</th>\n",
       "      <th>size</th>\n",
       "    </tr>\n",
       "  </thead>\n",
       "  <tbody>\n",
       "    <tr>\n",
       "      <th>0</th>\n",
       "      <td>16.99</td>\n",
       "      <td>1.01</td>\n",
       "      <td>Female</td>\n",
       "      <td>No</td>\n",
       "      <td>Sun</td>\n",
       "      <td>Dinner</td>\n",
       "      <td>2</td>\n",
       "    </tr>\n",
       "    <tr>\n",
       "      <th>1</th>\n",
       "      <td>10.34</td>\n",
       "      <td>1.66</td>\n",
       "      <td>Male</td>\n",
       "      <td>No</td>\n",
       "      <td>Sun</td>\n",
       "      <td>Dinner</td>\n",
       "      <td>3</td>\n",
       "    </tr>\n",
       "    <tr>\n",
       "      <th>2</th>\n",
       "      <td>21.01</td>\n",
       "      <td>3.50</td>\n",
       "      <td>Male</td>\n",
       "      <td>No</td>\n",
       "      <td>Sun</td>\n",
       "      <td>Dinner</td>\n",
       "      <td>3</td>\n",
       "    </tr>\n",
       "    <tr>\n",
       "      <th>3</th>\n",
       "      <td>23.68</td>\n",
       "      <td>3.31</td>\n",
       "      <td>Male</td>\n",
       "      <td>No</td>\n",
       "      <td>Sun</td>\n",
       "      <td>Dinner</td>\n",
       "      <td>2</td>\n",
       "    </tr>\n",
       "    <tr>\n",
       "      <th>4</th>\n",
       "      <td>24.59</td>\n",
       "      <td>3.61</td>\n",
       "      <td>Female</td>\n",
       "      <td>No</td>\n",
       "      <td>Sun</td>\n",
       "      <td>Dinner</td>\n",
       "      <td>4</td>\n",
       "    </tr>\n",
       "    <tr>\n",
       "      <th>...</th>\n",
       "      <td>...</td>\n",
       "      <td>...</td>\n",
       "      <td>...</td>\n",
       "      <td>...</td>\n",
       "      <td>...</td>\n",
       "      <td>...</td>\n",
       "      <td>...</td>\n",
       "    </tr>\n",
       "    <tr>\n",
       "      <th>239</th>\n",
       "      <td>29.03</td>\n",
       "      <td>5.92</td>\n",
       "      <td>Male</td>\n",
       "      <td>No</td>\n",
       "      <td>Sat</td>\n",
       "      <td>Dinner</td>\n",
       "      <td>3</td>\n",
       "    </tr>\n",
       "    <tr>\n",
       "      <th>240</th>\n",
       "      <td>27.18</td>\n",
       "      <td>2.00</td>\n",
       "      <td>Female</td>\n",
       "      <td>Yes</td>\n",
       "      <td>Sat</td>\n",
       "      <td>Dinner</td>\n",
       "      <td>2</td>\n",
       "    </tr>\n",
       "    <tr>\n",
       "      <th>241</th>\n",
       "      <td>22.67</td>\n",
       "      <td>2.00</td>\n",
       "      <td>Male</td>\n",
       "      <td>Yes</td>\n",
       "      <td>Sat</td>\n",
       "      <td>Dinner</td>\n",
       "      <td>2</td>\n",
       "    </tr>\n",
       "    <tr>\n",
       "      <th>242</th>\n",
       "      <td>17.82</td>\n",
       "      <td>1.75</td>\n",
       "      <td>Male</td>\n",
       "      <td>No</td>\n",
       "      <td>Sat</td>\n",
       "      <td>Dinner</td>\n",
       "      <td>2</td>\n",
       "    </tr>\n",
       "    <tr>\n",
       "      <th>243</th>\n",
       "      <td>18.78</td>\n",
       "      <td>3.00</td>\n",
       "      <td>Female</td>\n",
       "      <td>No</td>\n",
       "      <td>Thur</td>\n",
       "      <td>Dinner</td>\n",
       "      <td>2</td>\n",
       "    </tr>\n",
       "  </tbody>\n",
       "</table>\n",
       "<p>244 rows × 7 columns</p>\n",
       "</div>"
      ],
      "text/plain": [
       "     total_bill   tip     sex smoker   day    time  size\n",
       "0         16.99  1.01  Female     No   Sun  Dinner     2\n",
       "1         10.34  1.66    Male     No   Sun  Dinner     3\n",
       "2         21.01  3.50    Male     No   Sun  Dinner     3\n",
       "3         23.68  3.31    Male     No   Sun  Dinner     2\n",
       "4         24.59  3.61  Female     No   Sun  Dinner     4\n",
       "..          ...   ...     ...    ...   ...     ...   ...\n",
       "239       29.03  5.92    Male     No   Sat  Dinner     3\n",
       "240       27.18  2.00  Female    Yes   Sat  Dinner     2\n",
       "241       22.67  2.00    Male    Yes   Sat  Dinner     2\n",
       "242       17.82  1.75    Male     No   Sat  Dinner     2\n",
       "243       18.78  3.00  Female     No  Thur  Dinner     2\n",
       "\n",
       "[244 rows x 7 columns]"
      ]
     },
     "execution_count": 49,
     "metadata": {},
     "output_type": "execute_result"
    }
   ],
   "source": [
    "df"
   ]
  },
  {
   "cell_type": "code",
   "execution_count": 50,
   "id": "0aa5ad44",
   "metadata": {
    "ExecuteTime": {
     "end_time": "2023-10-08T18:43:25.259612Z",
     "start_time": "2023-10-08T18:43:25.006407Z"
    }
   },
   "outputs": [
    {
     "name": "stderr",
     "output_type": "stream",
     "text": [
      "C:\\Users\\Rishav\\anaconda3\\Lib\\site-packages\\seaborn\\distributions.py:2619: FutureWarning: `distplot` is a deprecated function and will be removed in a future version. Please adapt your code to use either `displot` (a figure-level function with similar flexibility) or `histplot` (an axes-level function for histograms).\n",
      "  warnings.warn(msg, FutureWarning)\n"
     ]
    },
    {
     "data": {
      "text/plain": [
       "<Axes: xlabel='total_bill', ylabel='Density'>"
      ]
     },
     "execution_count": 50,
     "metadata": {},
     "output_type": "execute_result"
    },
    {
     "data": {
      "image/png": "[encoded data removed]",
      "text/plain": [
       "<Figure size 640x480 with 1 Axes>"
      ]
     },
     "metadata": {},
     "output_type": "display_data"
    }
   ],
   "source": [
    "sns.distplot(df.total_bill, kde=True)"
   ]
  },
  {
   "cell_type": "code",
   "execution_count": 51,
   "id": "074a9b30",
   "metadata": {
    "ExecuteTime": {
     "end_time": "2023-10-08T18:43:46.508746Z",
     "start_time": "2023-10-08T18:43:46.396263Z"
    }
   },
   "outputs": [
    {
     "name": "stderr",
     "output_type": "stream",
     "text": [
      "C:\\Users\\Rishav\\anaconda3\\Lib\\site-packages\\seaborn\\_decorators.py:36: FutureWarning: Pass the following variable as a keyword arg: x. From version 0.12, the only valid positional argument will be `data`, and passing other arguments without an explicit keyword will result in an error or misinterpretation.\n",
      "  warnings.warn(\n"
     ]
    },
    {
     "data": {
      "text/plain": [
       "<Axes: xlabel='total_bill'>"
      ]
     },
     "execution_count": 51,
     "metadata": {},
     "output_type": "execute_result"
    },
    {
     "data": {
      "image/png": "[encoded data removed]",
      "text/plain": [
       "<Figure size 640x480 with 1 Axes>"
      ]
     },
     "metadata": {},
     "output_type": "display_data"
    }
   ],
   "source": [
    "sns.boxplot(df.total_bill)"
   ]
  },
  {
   "cell_type": "code",
   "execution_count": 52,
   "id": "cffccfde",
   "metadata": {
    "ExecuteTime": {
     "end_time": "2023-10-08T18:44:18.788755Z",
     "start_time": "2023-10-08T18:44:18.779860Z"
    }
   },
   "outputs": [
    {
     "data": {
      "text/plain": [
       "113.32130376158204"
      ]
     },
     "execution_count": 52,
     "metadata": {},
     "output_type": "execute_result"
    }
   ],
   "source": [
    "df.total_bill.skew()*100"
   ]
  },
  {
   "cell_type": "code",
   "execution_count": 53,
   "id": "36cffe0f",
   "metadata": {
    "ExecuteTime": {
     "end_time": "2023-10-08T18:45:07.536609Z",
     "start_time": "2023-10-08T18:45:07.382370Z"
    }
   },
   "outputs": [
    {
     "data": {
      "text/plain": [
       "<Axes: xlabel='total_bill'>"
      ]
     },
     "execution_count": 53,
     "metadata": {},
     "output_type": "execute_result"
    },
    {
     "data": {
      "image/png": "[encoded data removed]",
      "text/plain": [
       "<Figure size 640x480 with 1 Axes>"
      ]
     },
     "metadata": {},
     "output_type": "display_data"
    }
   ],
   "source": [
    "sns.violinplot(x=df.total_bill, inner=\"box\")"
   ]
  },
  {
   "cell_type": "code",
   "execution_count": null,
   "id": "a670a0dd",
   "metadata": {},
   "outputs": [],
   "source": []
  }
 ],
 "metadata": {
  "kernelspec": {
   "display_name": "Python 3 (ipykernel)",
   "language": "python",
   "name": "python3"
  },
  "language_info": {
   "codemirror_mode": {
    "name": "ipython",
    "version": 3
   },
   "file_extension": ".py",
   "mimetype": "text/x-python",
   "name": "python",
   "nbconvert_exporter": "python",
   "pygments_lexer": "ipython3",
   "version": "3.11.3"
  },
  "varInspector": {
   "cols": {
    "lenName": 16,
    "lenType": 16,
    "lenVar": 40
   },
   "kernels_config": {
    "python": {
     "delete_cmd_postfix": "",
     "delete_cmd_prefix": "del ",
     "library": "var_list.py",
     "varRefreshCmd": "print(var_dic_list())"
    },
    "r": {
     "delete_cmd_postfix": ") ",
     "delete_cmd_prefix": "rm(",
     "library": "var_list.r",
     "varRefreshCmd": "cat(var_dic_list()) "
    }
   },
   "types_to_exclude": [
    "module",
    "function",
    "builtin_function_or_method",
    "instance",
    "_Feature"
   ],
   "window_display": false
  }
 },
 "nbformat": 4,
 "nbformat_minor": 5
}
